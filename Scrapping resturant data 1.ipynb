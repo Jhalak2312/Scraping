{
 "cells": [
  {
   "cell_type": "code",
   "execution_count": 1,
   "id": "60cf43d6",
   "metadata": {},
   "outputs": [],
   "source": [
    "import requests\n",
    "from bs4 import BeautifulSoup\n",
    "import pandas as pd"
   ]
  },
  {
   "cell_type": "code",
   "execution_count": 2,
   "id": "12ac3f62",
   "metadata": {},
   "outputs": [],
   "source": [
    "web=requests.get(\"https://www.dineout.co.in/delhi-restaurants/buffet-special\")"
   ]
  },
  {
   "cell_type": "code",
   "execution_count": 3,
   "id": "a4d8bbc7",
   "metadata": {},
   "outputs": [
    {
     "data": {
      "text/plain": [
       "<Response [200]>"
      ]
     },
     "execution_count": 3,
     "metadata": {},
     "output_type": "execute_result"
    }
   ],
   "source": [
    "web"
   ]
  },
  {
   "cell_type": "code",
   "execution_count": 4,
   "id": "3072fc69",
   "metadata": {},
   "outputs": [],
   "source": [
    "soup = BeautifulSoup(web.content, 'html.parser')\n"
   ]
  },
  {
   "cell_type": "code",
   "execution_count": 5,
   "id": "8f0026c6",
   "metadata": {},
   "outputs": [],
   "source": [
    "restaurant_names = soup.find_all('a', class_='restnt-name ellipsis')"
   ]
  },
  {
   "cell_type": "code",
   "execution_count": 6,
   "id": "b5fc8e69",
   "metadata": {},
   "outputs": [],
   "source": [
    "cuisines = soup.find_all('span', class_='double-line-ellipsis')"
   ]
  },
  {
   "cell_type": "code",
   "execution_count": 7,
   "id": "907e3a5b",
   "metadata": {},
   "outputs": [],
   "source": [
    "locations = soup.find_all('div', class_='restnt-loc ellipsis')"
   ]
  },
  {
   "cell_type": "code",
   "execution_count": 8,
   "id": "cad3016b",
   "metadata": {},
   "outputs": [],
   "source": [
    "ratings = soup.find_all('div', class_='restnt-rating rating-4')"
   ]
  },
  {
   "cell_type": "code",
   "execution_count": 9,
   "id": "ff3204f8",
   "metadata": {},
   "outputs": [],
   "source": [
    "image_urls = soup.find_all('img', class_='no-img')"
   ]
  },
  {
   "cell_type": "code",
   "execution_count": 10,
   "id": "32fa433f",
   "metadata": {},
   "outputs": [],
   "source": [
    "restaurant_list = []\n",
    "cuisine_list = []\n",
    "location_list = []\n",
    "rating_list = []\n",
    "image_url_list = []"
   ]
  },
  {
   "cell_type": "code",
   "execution_count": 11,
   "id": "0fad891d",
   "metadata": {},
   "outputs": [],
   "source": [
    "for name in restaurant_names:\n",
    "    \n",
    "    restaurant_list.append(name.text.strip())\n"
   ]
  },
  {
   "cell_type": "code",
   "execution_count": 12,
   "id": "e0d0735a",
   "metadata": {},
   "outputs": [],
   "source": [
    "for cuisine in cuisines:\n",
    "    cuisine_list.append(cuisine.text.strip())\n"
   ]
  },
  {
   "cell_type": "code",
   "execution_count": 13,
   "id": "68558c62",
   "metadata": {},
   "outputs": [],
   "source": [
    "for location in locations:\n",
    "    location_list.append(location.text.strip())"
   ]
  },
  {
   "cell_type": "code",
   "execution_count": 14,
   "id": "ea8e5a5a",
   "metadata": {},
   "outputs": [],
   "source": [
    "for rating in ratings:\n",
    "    rating_list.append(rating.text.strip())"
   ]
  },
  {
   "cell_type": "code",
   "execution_count": 15,
   "id": "a5621bb9",
   "metadata": {},
   "outputs": [],
   "source": [
    "for image in image_urls:\n",
    "    image_url_list.append(image['src'])"
   ]
  },
  {
   "cell_type": "code",
   "execution_count": 16,
   "id": "5cc6e1f4",
   "metadata": {},
   "outputs": [],
   "source": [
    "data = {\n",
    "  'Restaurant Name': restaurant_list,\n",
    "  'Cuisine': cuisine_list,\n",
    "  'Location': location_list,\n",
    "  'Ratings': rating_list\n",
    "  \n",
    "}"
   ]
  },
  {
   "cell_type": "code",
   "execution_count": 17,
   "id": "caa65fb0",
   "metadata": {},
   "outputs": [],
   "source": [
    "df = pd.DataFrame(data)"
   ]
  },
  {
   "cell_type": "code",
   "execution_count": 18,
   "id": "441e5c7f",
   "metadata": {},
   "outputs": [
    {
     "data": {
      "text/html": [
       "<div>\n",
       "<style scoped>\n",
       "    .dataframe tbody tr th:only-of-type {\n",
       "        vertical-align: middle;\n",
       "    }\n",
       "\n",
       "    .dataframe tbody tr th {\n",
       "        vertical-align: top;\n",
       "    }\n",
       "\n",
       "    .dataframe thead th {\n",
       "        text-align: right;\n",
       "    }\n",
       "</style>\n",
       "<table border=\"1\" class=\"dataframe\">\n",
       "  <thead>\n",
       "    <tr style=\"text-align: right;\">\n",
       "      <th></th>\n",
       "      <th>Restaurant Name</th>\n",
       "      <th>Cuisine</th>\n",
       "      <th>Location</th>\n",
       "      <th>Ratings</th>\n",
       "    </tr>\n",
       "  </thead>\n",
       "  <tbody>\n",
       "    <tr>\n",
       "      <th>0</th>\n",
       "      <td>Castle Barbeque</td>\n",
       "      <td>₹ 2,000 for 2 (approx) | Chinese, North Indian</td>\n",
       "      <td>Connaught Place, Central Delhi</td>\n",
       "      <td>4</td>\n",
       "    </tr>\n",
       "    <tr>\n",
       "      <th>1</th>\n",
       "      <td>Cafe Knosh</td>\n",
       "      <td>₹ 3,000 for 2 (approx) | Italian, Continental</td>\n",
       "      <td>The Leela Ambience Convention Hotel,Shahdara, ...</td>\n",
       "      <td>4.3</td>\n",
       "    </tr>\n",
       "    <tr>\n",
       "      <th>2</th>\n",
       "      <td>India Grill</td>\n",
       "      <td>₹ 2,400 for 2 (approx) | North Indian, Italian</td>\n",
       "      <td>Hilton Garden Inn,Saket, South Delhi</td>\n",
       "      <td>3.9</td>\n",
       "    </tr>\n",
       "    <tr>\n",
       "      <th>3</th>\n",
       "      <td>The Barbeque Company</td>\n",
       "      <td>₹ 1,700 for 2 (approx) | North Indian, Chinese</td>\n",
       "      <td>Gardens Galleria,Sector 38A, Noida</td>\n",
       "      <td>3.9</td>\n",
       "    </tr>\n",
       "    <tr>\n",
       "      <th>4</th>\n",
       "      <td>Delhi Barbeque</td>\n",
       "      <td>₹ 1,800 for 2 (approx) | North Indian</td>\n",
       "      <td>Taurus Sarovar Portico,Mahipalpur, South Delhi</td>\n",
       "      <td>3.7</td>\n",
       "    </tr>\n",
       "    <tr>\n",
       "      <th>5</th>\n",
       "      <td>The Monarch - Bar Be Que Village</td>\n",
       "      <td>₹ 1,900 for 2 (approx) | North Indian</td>\n",
       "      <td>Indirapuram Habitat Centre,Indirapuram, Ghaziabad</td>\n",
       "      <td>3.8</td>\n",
       "    </tr>\n",
       "    <tr>\n",
       "      <th>6</th>\n",
       "      <td>The Barbeque Times</td>\n",
       "      <td>₹ 1,500 for 2 (approx) | North Indian, Contine...</td>\n",
       "      <td>M2K Corporate Park,Sector 51, Gurgaon</td>\n",
       "      <td>4.1</td>\n",
       "    </tr>\n",
       "  </tbody>\n",
       "</table>\n",
       "</div>"
      ],
      "text/plain": [
       "                    Restaurant Name  \\\n",
       "0                   Castle Barbeque   \n",
       "1                        Cafe Knosh   \n",
       "2                       India Grill   \n",
       "3              The Barbeque Company   \n",
       "4                    Delhi Barbeque   \n",
       "5  The Monarch - Bar Be Que Village   \n",
       "6                The Barbeque Times   \n",
       "\n",
       "                                             Cuisine  \\\n",
       "0     ₹ 2,000 for 2 (approx) | Chinese, North Indian   \n",
       "1      ₹ 3,000 for 2 (approx) | Italian, Continental   \n",
       "2     ₹ 2,400 for 2 (approx) | North Indian, Italian   \n",
       "3     ₹ 1,700 for 2 (approx) | North Indian, Chinese   \n",
       "4              ₹ 1,800 for 2 (approx) | North Indian   \n",
       "5              ₹ 1,900 for 2 (approx) | North Indian   \n",
       "6  ₹ 1,500 for 2 (approx) | North Indian, Contine...   \n",
       "\n",
       "                                            Location Ratings  \n",
       "0                     Connaught Place, Central Delhi       4  \n",
       "1  The Leela Ambience Convention Hotel,Shahdara, ...     4.3  \n",
       "2               Hilton Garden Inn,Saket, South Delhi     3.9  \n",
       "3                 Gardens Galleria,Sector 38A, Noida     3.9  \n",
       "4     Taurus Sarovar Portico,Mahipalpur, South Delhi     3.7  \n",
       "5  Indirapuram Habitat Centre,Indirapuram, Ghaziabad     3.8  \n",
       "6              M2K Corporate Park,Sector 51, Gurgaon     4.1  "
      ]
     },
     "execution_count": 18,
     "metadata": {},
     "output_type": "execute_result"
    }
   ],
   "source": [
    "df"
   ]
  },
  {
   "cell_type": "code",
   "execution_count": 19,
   "id": "f142fa21",
   "metadata": {},
   "outputs": [
    {
     "data": {
      "text/plain": [
       "[]"
      ]
     },
     "execution_count": 19,
     "metadata": {},
     "output_type": "execute_result"
    }
   ],
   "source": [
    "image_url_list"
   ]
  },
  {
   "cell_type": "code",
   "execution_count": null,
   "id": "07c7cb41",
   "metadata": {},
   "outputs": [],
   "source": []
  }
 ],
 "metadata": {
  "kernelspec": {
   "display_name": "Python 3 (ipykernel)",
   "language": "python",
   "name": "python3"
  },
  "language_info": {
   "codemirror_mode": {
    "name": "ipython",
    "version": 3
   },
   "file_extension": ".py",
   "mimetype": "text/x-python",
   "name": "python",
   "nbconvert_exporter": "python",
   "pygments_lexer": "ipython3",
   "version": "3.11.5"
  }
 },
 "nbformat": 4,
 "nbformat_minor": 5
}
